{
 "cells": [
  {
   "cell_type": "code",
   "execution_count": 38,
   "id": "e1857ad9-d0f3-42d4-9397-4abcbbbae3da",
   "metadata": {
    "scrolled": true
   },
   "outputs": [
    {
     "name": "stdout",
     "output_type": "stream",
     "text": [
      "\u001b[33mWARNING: Running pip as the 'root' user can result in broken permissions and conflicting behaviour with the system package manager. It is recommended to use a virtual environment instead: https://pip.pypa.io/warnings/venv\u001b[0m\u001b[33m\n",
      "\u001b[0m\n",
      "\u001b[1m[\u001b[0m\u001b[34;49mnotice\u001b[0m\u001b[1;39;49m]\u001b[0m\u001b[39;49m A new release of pip is available: \u001b[0m\u001b[31;49m23.0.1\u001b[0m\u001b[39;49m -> \u001b[0m\u001b[32;49m24.0\u001b[0m\n",
      "\u001b[1m[\u001b[0m\u001b[34;49mnotice\u001b[0m\u001b[1;39;49m]\u001b[0m\u001b[39;49m To update, run: \u001b[0m\u001b[32;49mpip install --upgrade pip\u001b[0m\n"
     ]
    }
   ],
   "source": [
    "!pip install --upgrade --quiet arxiv"
   ]
  },
  {
   "cell_type": "code",
   "execution_count": 118,
   "id": "f67cc87a-96b6-4ccf-b1a6-83e01d0d46c6",
   "metadata": {},
   "outputs": [],
   "source": [
    "import arxiv\n",
    "\n",
    "# Construct the default API client.\n",
    "client = arxiv.Client()\n",
    "\n",
    "# Search for most recently submitted papers related to ML (cs.LG) or AI (cs.AI)\n",
    "search = arxiv.Search(\n",
    "  query = \"cat:cs.LG OR cat:cs.AI\",\n",
    "  max_results = 1000,\n",
    "  sort_by = arxiv.SortCriterion.SubmittedDate\n",
    ")\n",
    "\n",
    "results = client.results(search)\n"
   ]
  },
  {
   "cell_type": "code",
   "execution_count": 119,
   "id": "d58085f9-e7e9-4e2b-a252-6cddf75c7d76",
   "metadata": {},
   "outputs": [],
   "source": [
    "import json\n",
    "import datetime\n",
    "\n",
    "def default_parser(value):\n",
    "    if isinstance(value, arxiv.Result):\n",
    "        data = value.__dict__.copy()\n",
    "        data.pop('_raw')\n",
    "        return data\n",
    "    elif isinstance(value, datetime.date):\n",
    "        return str(value.isoformat())\n",
    "    else:\n",
    "        return value.__dict__\n",
    "\n",
    "result_jsons = []\n",
    "\n",
    "for result in results:\n",
    "    result_json = json.dumps(result, default=default_parser, indent=2)\n",
    "    result_jsons.append(json.loads(result_json))\n",
    "\n",
    "with open(\"data.json\", \"w\") as f:\n",
    "    json.dump(result_jsons, f, indent=2)"
   ]
  },
  {
   "cell_type": "code",
   "execution_count": 120,
   "id": "36115bee-fe73-48d7-9c33-9b11f95d1674",
   "metadata": {},
   "outputs": [],
   "source": [
    "import weaviate\n",
    "\n",
    "client = weaviate.connect_to_custom(\n",
    "    http_host=\"weaviate\",\n",
    "    http_port=\"8080\",\n",
    "    http_secure=False,\n",
    "    grpc_host=\"weaviate\",\n",
    "    grpc_port=\"50051\",\n",
    "    grpc_secure=False,\n",
    ")"
   ]
  },
  {
   "cell_type": "code",
   "execution_count": 121,
   "id": "23175227-6308-40ed-8dce-478ca3c3136e",
   "metadata": {
    "scrolled": true
   },
   "outputs": [
    {
     "data": {
      "text/plain": [
       "{'hostname': 'http://[::]:8080',\n",
       " 'modules': {'text2vec-transformers': {'model': {'_name_or_path': './models/model',\n",
       "    'add_cross_attention': False,\n",
       "    'architectures': ['BertModel'],\n",
       "    'attention_probs_dropout_prob': 0.1,\n",
       "    'bad_words_ids': None,\n",
       "    'begin_suppress_tokens': None,\n",
       "    'bos_token_id': None,\n",
       "    'chunk_size_feed_forward': 0,\n",
       "    'classifier_dropout': None,\n",
       "    'cross_attention_hidden_size': None,\n",
       "    'decoder_start_token_id': None,\n",
       "    'diversity_penalty': 0,\n",
       "    'do_sample': False,\n",
       "    'early_stopping': False,\n",
       "    'encoder_no_repeat_ngram_size': 0,\n",
       "    'eos_token_id': None,\n",
       "    'exponential_decay_length_penalty': None,\n",
       "    'finetuning_task': None,\n",
       "    'forced_bos_token_id': None,\n",
       "    'forced_eos_token_id': None,\n",
       "    'gradient_checkpointing': False,\n",
       "    'hidden_act': 'gelu',\n",
       "    'hidden_dropout_prob': 0.1,\n",
       "    'hidden_size': 384,\n",
       "    'id2label': {'0': 'LABEL_0', '1': 'LABEL_1'},\n",
       "    'initializer_range': 0.02,\n",
       "    'intermediate_size': 1536,\n",
       "    'is_decoder': False,\n",
       "    'is_encoder_decoder': False,\n",
       "    'label2id': {'LABEL_0': 0, 'LABEL_1': 1},\n",
       "    'layer_norm_eps': 1e-12,\n",
       "    'length_penalty': 1,\n",
       "    'max_length': 20,\n",
       "    'max_position_embeddings': 512,\n",
       "    'min_length': 0,\n",
       "    'model_type': 'bert',\n",
       "    'no_repeat_ngram_size': 0,\n",
       "    'num_attention_heads': 12,\n",
       "    'num_beam_groups': 1,\n",
       "    'num_beams': 1,\n",
       "    'num_hidden_layers': 6,\n",
       "    'num_return_sequences': 1,\n",
       "    'output_attentions': False,\n",
       "    'output_hidden_states': False,\n",
       "    'output_scores': False,\n",
       "    'pad_token_id': 0,\n",
       "    'position_embedding_type': 'absolute',\n",
       "    'prefix': None,\n",
       "    'problem_type': None,\n",
       "    'pruned_heads': {},\n",
       "    'remove_invalid_values': False,\n",
       "    'repetition_penalty': 1,\n",
       "    'return_dict': True,\n",
       "    'return_dict_in_generate': False,\n",
       "    'sep_token_id': None,\n",
       "    'suppress_tokens': None,\n",
       "    'task_specific_params': None,\n",
       "    'temperature': 1,\n",
       "    'tf_legacy_loss': False,\n",
       "    'tie_encoder_decoder': False,\n",
       "    'tie_word_embeddings': True,\n",
       "    'tokenizer_class': None,\n",
       "    'top_k': 50,\n",
       "    'top_p': 1,\n",
       "    'torch_dtype': 'float32',\n",
       "    'torchscript': False,\n",
       "    'transformers_version': '4.34.1',\n",
       "    'type_vocab_size': 2,\n",
       "    'typical_p': 1,\n",
       "    'use_bfloat16': False,\n",
       "    'use_cache': True,\n",
       "    'vocab_size': 30522}}},\n",
       " 'version': '1.23.9'}"
      ]
     },
     "execution_count": 121,
     "metadata": {},
     "output_type": "execute_result"
    }
   ],
   "source": [
    "client.get_meta()"
   ]
  },
  {
   "cell_type": "code",
   "execution_count": 129,
   "id": "613e0e72-0f61-4fb4-9560-935796aea758",
   "metadata": {},
   "outputs": [],
   "source": [
    "client.collections.delete(\"Document\")"
   ]
  },
  {
   "cell_type": "code",
   "execution_count": 130,
   "id": "9f60806d-560a-42ae-9475-3bd981bf0fc0",
   "metadata": {},
   "outputs": [
    {
     "data": {
      "text/plain": [
       "<weaviate.collections.collection.Collection at 0x7f075490f7f0>"
      ]
     },
     "execution_count": 130,
     "metadata": {},
     "output_type": "execute_result"
    }
   ],
   "source": [
    "import weaviate.classes as wvc\n",
    "\n",
    "client.collections.create(\n",
    "    \"Document\",\n",
    "    vectorizer_config=wvc.config.Configure.Vectorizer.text2vec_transformers(),\n",
    "    vector_index_config=wvc.config.Configure.VectorIndex.hnsw(),\n",
    "    properties=[\n",
    "        wvc.config.Property(name=\"title\", data_type=wvc.config.DataType.TEXT),\n",
    "        wvc.config.Property(name=\"summary\", data_type=wvc.config.DataType.TEXT),\n",
    "    ]\n",
    ")"
   ]
  },
  {
   "cell_type": "code",
   "execution_count": 131,
   "id": "69c9091d-a642-4077-9448-5cef96e9c5ed",
   "metadata": {
    "scrolled": true
   },
   "outputs": [
    {
     "name": "stdout",
     "output_type": "stream",
     "text": [
      "_CollectionConfig(name='Document', description=None, generative_config=None, inverted_index_config=_InvertedIndexConfig(bm25=_BM25Config(b=0.75, k1=1.2), cleanup_interval_seconds=60, index_null_state=False, index_property_length=False, index_timestamps=False, stopwords=_StopwordsConfig(preset=<StopwordsPreset.EN: 'en'>, additions=None, removals=None)), multi_tenancy_config=_MultiTenancyConfig(enabled=False), properties=[_Property(name='title', description=None, data_type=<DataType.TEXT: 'text'>, index_filterable=True, index_searchable=True, nested_properties=None, tokenization=<Tokenization.WORD: 'word'>, vectorizer_config=_PropertyVectorizerConfig(skip=False, vectorize_property_name=True), vectorizer='text2vec-transformers'), _Property(name='summary', description=None, data_type=<DataType.TEXT: 'text'>, index_filterable=True, index_searchable=True, nested_properties=None, tokenization=<Tokenization.WORD: 'word'>, vectorizer_config=_PropertyVectorizerConfig(skip=False, vectorize_property_name=True), vectorizer='text2vec-transformers')], references=[], replication_config=_ReplicationConfig(factor=1), reranker_config=None, sharding_config=_ShardingConfig(virtual_per_physical=128, desired_count=1, actual_count=1, desired_virtual_count=128, actual_virtual_count=128, key='_id', strategy='hash', function='murmur3'), vector_index_config=_VectorIndexConfigHNSW(quantizer=None, cleanup_interval_seconds=300, distance_metric=<VectorDistances.COSINE: 'cosine'>, dynamic_ef_min=100, dynamic_ef_max=500, dynamic_ef_factor=8, ef=-1, ef_construction=128, flat_search_cutoff=40000, max_connections=64, skip=False, vector_cache_max_objects=1000000000000), vector_index_type=<VectorIndexType.HNSW: 'hnsw'>, vectorizer_config=_VectorizerConfig(vectorizer=<Vectorizers.TEXT2VEC_TRANSFORMERS: 'text2vec-transformers'>, model={'poolingStrategy': 'masked_mean'}, vectorize_collection_name=True), vectorizer=<Vectorizers.TEXT2VEC_TRANSFORMERS: 'text2vec-transformers'>)\n"
     ]
    }
   ],
   "source": [
    "document = client.collections.get(\"Document\")\n",
    "config = document.config.get()\n",
    "\n",
    "print(config)"
   ]
  },
  {
   "cell_type": "code",
   "execution_count": 132,
   "id": "83ec06f1-0781-4065-b050-ddfa08a1a574",
   "metadata": {},
   "outputs": [],
   "source": [
    "with open(\"data.json\", \"r\") as f:\n",
    "    data = json.load(f)\n",
    "\n",
    "fields = ['title', 'summary']\n",
    "\n",
    "with client.batch.fixed_size(batch_size=200) as batch:\n",
    "    for data_row in data:\n",
    "        properties = {field: data_row[field] for field in fields}\n",
    "        batch.add_object(\n",
    "            collection='Document',\n",
    "            properties=properties,\n",
    "        )"
   ]
  },
  {
   "cell_type": "code",
   "execution_count": 133,
   "id": "8fe77ebd-8130-47f7-ba05-865a788d88c4",
   "metadata": {},
   "outputs": [
    {
     "name": "stdout",
     "output_type": "stream",
     "text": [
      "1000\n"
     ]
    }
   ],
   "source": [
    "docs = client.collections.get(\"Document\")\n",
    "response = docs.aggregate.over_all(total_count=True)\n",
    "\n",
    "print(response.total_count)"
   ]
  },
  {
   "cell_type": "code",
   "execution_count": 134,
   "id": "fd21c527-5f98-46ef-b2e7-d7869aa53ed2",
   "metadata": {},
   "outputs": [
    {
     "name": "stdout",
     "output_type": "stream",
     "text": [
      "Towards Robust Car Following Dynamics Modeling via Blackbox Models: Methodology, Analysis, and Recommendations\n",
      "0.7079105377197266\n",
      "Driving Everywhere with Large Language Model Policy Adaptation\n",
      "0.7538900375366211\n",
      "Vehicle Behavior Prediction by Episodic-Memory Implanted NDT\n",
      "0.7546801567077637\n",
      "Estimating On-road Transportation Carbon Emissions from Open Data of Road Network and Origin-destination Flow Data\n",
      "0.8088363409042358\n",
      "CityFlowER: An Efficient and Realistic Traffic Simulator with Embedded Machine Learning Models\n",
      "0.8152095079421997\n"
     ]
    }
   ],
   "source": [
    "response = docs.query.near_text(\n",
    "    query=\"car\",\n",
    "    limit=5,\n",
    "    return_metadata=wvc.query.MetadataQuery(distance=True)\n",
    ")\n",
    "\n",
    "for o in response.objects:\n",
    "    print(o.properties['title'])\n",
    "    print(o.metadata.distance)"
   ]
  },
  {
   "cell_type": "code",
   "execution_count": 143,
   "id": "8631eb62-c36a-4680-b0f4-0b202620e864",
   "metadata": {
    "scrolled": true
   },
   "outputs": [
    {
     "name": "stdout",
     "output_type": "stream",
     "text": [
      "{'text': 'overview or survey of LLMs', 'vector': [0.44878119230270386, -0.04536544159054756, -0.23652151226997375, -0.3060486316680908, 0.3254667818546295, 0.5029256343841553, -0.07935827970504761, -0.0038907788693904877, -0.0341285765171051, 0.2556675970554352, -0.7224306464195251, -0.22549724578857422, 0.37613701820373535, -0.041613515466451645, -0.457935094833374, 0.06133721396327019, 0.2547215223312378, -0.18404462933540344, 0.4099758267402649, 0.20028559863567352, 0.3450828194618225, -0.1943768858909607, 0.8460269570350647, -0.21073603630065918, -0.05531223118305206, -0.16577176749706268, 0.34324216842651367, 0.016099900007247925, -0.2967534363269806, -0.6374852657318115, -0.3311845064163208, 0.6175627708435059, 0.38582342863082886, -0.005985047668218613, -0.14287568628787994, 0.06119507551193237, 0.7380911111831665, 0.5302543640136719, -0.08264720439910889, 0.31282293796539307, 0.2013060599565506, -0.5277292728424072, 0.10601353645324707, 0.4626431465148926, 0.348145991563797, -0.24228176474571228, 0.02700016461312771, -0.20952409505844116, -0.4810602068901062, 1.0309889316558838, -0.4611353874206543, -0.8413084149360657, 0.018483411520719528, -0.6023530960083008, -0.025019463151693344, 0.3107287883758545, -0.610730767250061, -0.5110962986946106, -0.5341740250587463, -0.0776989534497261, -0.3833114802837372, -0.1155615746974945, 0.0999927967786789, 0.5665791630744934, 0.2442266345024109, 0.32743871212005615, -0.3785351514816284, 0.8144171237945557, 0.4791409969329834, -0.8351132869720459, -0.26181256771087646, -0.5002320408821106, 0.31367117166519165, 0.16954855620861053, -0.09632496535778046, -0.1093449741601944, 0.3088911175727844, 0.1765042543411255, 0.1978759467601776, -0.3319140672683716, 0.23736058175563812, 0.3575342297554016, -0.6939442157745361, -0.34913650155067444, -0.4710959196090698, -0.28767943382263184, -0.017274603247642517, -0.21681353449821472, 0.02937138080596924, -0.22005736827850342, 0.39107269048690796, -0.054030388593673706, -0.20460444688796997, 0.045212164521217346, 0.35070306062698364, -0.1010345071554184, -0.07734982669353485, -0.7160762548446655, 0.648491621017456, 0.18056051433086395, 0.2671888470649719, 0.12966804206371307, 0.3060041069984436, 0.23181933164596558, -0.16933873295783997, -0.38103926181793213, -0.7548046112060547, 0.2037336230278015, 0.03852308914065361, 0.09922537207603455, -0.005965396761894226, 0.8008297085762024, 0.3845638036727905, 0.05340786650776863, 0.6272196769714355, -1.0353654623031616, 0.37405043840408325, 0.298998087644577, 0.39093682169914246, 0.1611461341381073, -0.2663846015930176, -0.012644609436392784, -0.008269362151622772, -0.1689257025718689, 0.2441403567790985, 0.6178762912750244, -0.41359949111938477, 7.065412427199328e-30, -0.008635136298835278, -0.06686969101428986, 0.27610597014427185, 0.3453248143196106, -0.2676073908805847, -0.1577870100736618, 0.09288658201694489, -0.08394956588745117, -0.028546646237373352, 0.33079615235328674, 0.06048107147216797, 0.8564281463623047, 0.7079590559005737, 0.31828221678733826, 0.3805166482925415, -0.3673993945121765, -0.2884313464164734, 0.0854150727391243, -0.47703778743743896, -0.3844801187515259, -0.37176626920700073, 0.562930166721344, 0.3968777656555176, -0.02027066797018051, 0.8944447636604309, -0.16704241931438446, 0.5554808974266052, 0.10369458049535751, -0.2871474027633667, 0.1553051471710205, 0.04739537835121155, -0.25861528515815735, -0.4527427554130554, -0.06966155767440796, -0.18239827454090118, 0.7665784955024719, -0.1949576735496521, -0.23467811942100525, 0.07265932857990265, -0.4219730496406555, 0.045312318950891495, 0.04533272236585617, 0.5764961242675781, -0.14143407344818115, -0.7672756910324097, 0.29360225796699524, -0.14391937851905823, -0.35244256258010864, 0.9222118258476257, -0.14827068150043488, 0.1874551922082901, -0.49613749980926514, -0.7054264545440674, 0.06991882622241974, 0.5178693532943726, 0.05429358780384064, -0.6162161231040955, 0.0743141695857048, -0.49798816442489624, 0.13064421713352203, -0.13837717473506927, -0.3034827709197998, -0.07589355111122131, -0.3736726939678192, 0.04641775041818619, -0.32317987084388733, -0.7446241974830627, -0.24716287851333618, 0.5814298391342163, -0.24833127856254578, 0.06065955013036728, -0.07001759111881256, -0.2962372899055481, -0.062362827360630035, -0.47300174832344055, 0.06907370686531067, 0.17704002559185028, -0.10188494622707367, 0.29096147418022156, 0.4133605360984802, 0.18390324711799622, 0.3239355683326721, -0.13527797162532806, -0.8749678134918213, 0.45545151829719543, 0.2903519570827484, 0.5997092127799988, -0.0805397480726242, -0.4189942479133606, -0.14400282502174377, -0.9837486743927002, 0.3538067936897278, -0.23732516169548035, 0.35711905360221863, -0.4979593753814697, -1.5243816618935179e-32, -1.0319374799728394, 0.2706318795681, 0.03246705234050751, 0.48393183946609497, 0.36093494296073914, -0.26647263765335083, 0.08261653780937195, 0.5565158128738403, -0.034545350819826126, -0.16748321056365967, -0.7938775420188904, -0.2591707408428192, -0.11889738589525223, 0.1654195636510849, -0.33769866824150085, -0.4004814028739929, -0.2172093242406845, -0.8545181751251221, -0.24136172235012054, 0.495321124792099, -0.21185173094272614, 0.6934607625007629, -0.5050269365310669, -0.7165453433990479, -0.5989779829978943, 0.3740620017051697, -0.4861455261707306, -0.12266875058412552, -0.410114049911499, 0.09060546010732651, 0.14757584035396576, -0.5707055330276489, 0.04692420735955238, -0.13914676010608673, -0.3448953926563263, 0.02009686827659607, 0.7025505304336548, 0.06493320316076279, -0.17112548649311066, 0.29148101806640625, -0.020572271198034286, 0.39305585622787476, 0.2895413637161255, 0.15243616700172424, -0.029900550842285156, 0.4701087772846222, -0.6043734550476074, -0.25353506207466125, 0.1275438368320465, -0.009171303361654282, -0.4681290090084076, 0.24712121486663818, -0.13216400146484375, 0.21276971697807312, 0.21359659731388092, -0.473132848739624, -0.12765288352966309, -0.051017384976148605, 0.05844910815358162, 0.03875059261918068, -0.17608368396759033, 0.581862211227417, -0.06979493051767349, 0.2532205581665039, 0.44575104117393494, 0.019782178103923798, -0.05723438784480095, 0.4542602598667145, -0.6277939677238464, -0.02162764221429825, -0.2043105810880661, -0.036636389791965485, -0.518029510974884, -0.6226693391799927, 0.6083998680114746, -0.3150258958339691, -0.31609898805618286, 0.31210821866989136, 0.09110836684703827, -0.326837420463562, 0.38832151889801025, -0.1185929924249649, -0.14409734308719635, 0.4020281434059143, -0.32407522201538086, 0.38812056183815, 0.8503883481025696, -0.04090699180960655, 0.26662689447402954, 0.2667125463485718, 0.19466207921504974, -0.24582171440124512, -0.2937343716621399, -0.2706785798072815, 0.11151135712862015, -2.805411307785455e-32, 0.14024382829666138, 0.14270810782909393, 0.1874127984046936, 0.029163386672735214, 0.0341641940176487, 0.2859310805797577, -0.3854154944419861, 0.6041498184204102, 0.2612985074520111, 0.3197748064994812, 0.07609844207763672, 0.35193008184432983, -0.5494897365570068, 0.12543758749961853, 0.13851147890090942, -0.1343460977077484, -0.042338885366916656, 0.5117576122283936, -0.3602514863014221, -0.3344419598579407, 0.5365356206893921, 0.7582195401191711, 0.16971656680107117, 0.28126025199890137, 0.644731879234314, 0.14015749096870422, -0.6187336444854736, -0.1357509046792984, -0.31404533982276917, 0.11800169944763184, -0.3800193965435028, 0.3474939167499542, 0.0551038533449173, -0.20299679040908813, 0.5453848242759705, -0.01918746903538704, 0.008571995422244072, -0.20489002764225006, 0.5749633312225342, 0.23387430608272552, -0.3359096050262451, 0.1990222930908203, 0.5106525421142578, 0.616459846496582, 0.23793619871139526, -0.27481794357299805, 0.1261349320411682, 0.10869279503822327, -0.3454223573207855, -0.19766469299793243, -0.5920357704162598, -0.36794567108154297, -0.11359723657369614, 0.09664148092269897, -0.35294094681739807, 0.46522513031959534, 0.27654707431793213, 0.007476018741726875, 0.16326791048049927, -0.1475815773010254, 0.42394015192985535, 0.08797205239534378, -0.5850017666816711, 0.010233208537101746], 'dim': 384}\n"
     ]
    }
   ],
   "source": [
    "import requests\n",
    "\n",
    "example_query = 'overview or survey of LLMs'\n",
    "\n",
    "payload = {'text': example_query}\n",
    "\n",
    "response = requests.post('http://t2v-transformers:8080/vectors/', json=payload).json()\n",
    "print(response)\n",
    "\n",
    "vector = response['vector']"
   ]
  },
  {
   "cell_type": "code",
   "execution_count": 151,
   "id": "9dbc7222-f1d4-48e0-a6e3-6859eb5ca12c",
   "metadata": {},
   "outputs": [],
   "source": [
    "response1 = docs.query.near_text(\n",
    "    query=example_query,\n",
    "    limit=10,\n",
    "    return_metadata=wvc.query.MetadataQuery(distance=True)\n",
    ")\n",
    "result1 = [(o.properties['title'], o.metadata.distance) for o in response1.objects]\n",
    "\n",
    "response2 = docs.query.near_vector(\n",
    "    near_vector=vector,\n",
    "    limit=10,\n",
    "    return_metadata=wvc.query.MetadataQuery(distance=True)\n",
    ")\n",
    "result2 = [(o.properties['title'], o.metadata.distance) for o in response2.objects]\n",
    "\n",
    "assert result1==result2"
   ]
  },
  {
   "cell_type": "code",
   "execution_count": null,
   "id": "b57bbefa-1f43-42bd-96f3-ef43a74aae21",
   "metadata": {},
   "outputs": [],
   "source": []
  }
 ],
 "metadata": {
  "kernelspec": {
   "display_name": "Python 3 (ipykernel)",
   "language": "python",
   "name": "python3"
  },
  "language_info": {
   "codemirror_mode": {
    "name": "ipython",
    "version": 3
   },
   "file_extension": ".py",
   "mimetype": "text/x-python",
   "name": "python",
   "nbconvert_exporter": "python",
   "pygments_lexer": "ipython3",
   "version": "3.9.18"
  }
 },
 "nbformat": 4,
 "nbformat_minor": 5
}
